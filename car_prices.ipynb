{
 "cells": [
  {
   "cell_type": "code",
   "execution_count": 553,
   "metadata": {},
   "outputs": [],
   "source": [
    "import pandas as pd\n",
    "import numpy as np\n",
    "import matplotlib.pyplot as plt"
   ]
  },
  {
   "cell_type": "code",
   "execution_count": 554,
   "metadata": {},
   "outputs": [],
   "source": [
    "cars = pd.read_csv(\"C:/Users/abhin/Downloads/CarPrices/CarPrice_Assignment.csv\")"
   ]
  },
  {
   "cell_type": "code",
   "execution_count": 555,
   "metadata": {},
   "outputs": [
    {
     "data": {
      "text/html": [
       "<div>\n",
       "<style scoped>\n",
       "    .dataframe tbody tr th:only-of-type {\n",
       "        vertical-align: middle;\n",
       "    }\n",
       "\n",
       "    .dataframe tbody tr th {\n",
       "        vertical-align: top;\n",
       "    }\n",
       "\n",
       "    .dataframe thead th {\n",
       "        text-align: right;\n",
       "    }\n",
       "</style>\n",
       "<table border=\"1\" class=\"dataframe\">\n",
       "  <thead>\n",
       "    <tr style=\"text-align: right;\">\n",
       "      <th></th>\n",
       "      <th>car_ID</th>\n",
       "      <th>symboling</th>\n",
       "      <th>CarName</th>\n",
       "      <th>fueltype</th>\n",
       "      <th>aspiration</th>\n",
       "      <th>doornumber</th>\n",
       "      <th>carbody</th>\n",
       "      <th>drivewheel</th>\n",
       "      <th>enginelocation</th>\n",
       "      <th>wheelbase</th>\n",
       "      <th>...</th>\n",
       "      <th>enginesize</th>\n",
       "      <th>fuelsystem</th>\n",
       "      <th>boreratio</th>\n",
       "      <th>stroke</th>\n",
       "      <th>compressionratio</th>\n",
       "      <th>horsepower</th>\n",
       "      <th>peakrpm</th>\n",
       "      <th>citympg</th>\n",
       "      <th>highwaympg</th>\n",
       "      <th>price</th>\n",
       "    </tr>\n",
       "  </thead>\n",
       "  <tbody>\n",
       "    <tr>\n",
       "      <th>0</th>\n",
       "      <td>1</td>\n",
       "      <td>3</td>\n",
       "      <td>alfa-romero giulia</td>\n",
       "      <td>gas</td>\n",
       "      <td>std</td>\n",
       "      <td>two</td>\n",
       "      <td>convertible</td>\n",
       "      <td>rwd</td>\n",
       "      <td>front</td>\n",
       "      <td>88.6</td>\n",
       "      <td>...</td>\n",
       "      <td>130</td>\n",
       "      <td>mpfi</td>\n",
       "      <td>3.47</td>\n",
       "      <td>2.68</td>\n",
       "      <td>9.0</td>\n",
       "      <td>111</td>\n",
       "      <td>5000</td>\n",
       "      <td>21</td>\n",
       "      <td>27</td>\n",
       "      <td>13495.0</td>\n",
       "    </tr>\n",
       "    <tr>\n",
       "      <th>1</th>\n",
       "      <td>2</td>\n",
       "      <td>3</td>\n",
       "      <td>alfa-romero stelvio</td>\n",
       "      <td>gas</td>\n",
       "      <td>std</td>\n",
       "      <td>two</td>\n",
       "      <td>convertible</td>\n",
       "      <td>rwd</td>\n",
       "      <td>front</td>\n",
       "      <td>88.6</td>\n",
       "      <td>...</td>\n",
       "      <td>130</td>\n",
       "      <td>mpfi</td>\n",
       "      <td>3.47</td>\n",
       "      <td>2.68</td>\n",
       "      <td>9.0</td>\n",
       "      <td>111</td>\n",
       "      <td>5000</td>\n",
       "      <td>21</td>\n",
       "      <td>27</td>\n",
       "      <td>16500.0</td>\n",
       "    </tr>\n",
       "    <tr>\n",
       "      <th>2</th>\n",
       "      <td>3</td>\n",
       "      <td>1</td>\n",
       "      <td>alfa-romero Quadrifoglio</td>\n",
       "      <td>gas</td>\n",
       "      <td>std</td>\n",
       "      <td>two</td>\n",
       "      <td>hatchback</td>\n",
       "      <td>rwd</td>\n",
       "      <td>front</td>\n",
       "      <td>94.5</td>\n",
       "      <td>...</td>\n",
       "      <td>152</td>\n",
       "      <td>mpfi</td>\n",
       "      <td>2.68</td>\n",
       "      <td>3.47</td>\n",
       "      <td>9.0</td>\n",
       "      <td>154</td>\n",
       "      <td>5000</td>\n",
       "      <td>19</td>\n",
       "      <td>26</td>\n",
       "      <td>16500.0</td>\n",
       "    </tr>\n",
       "    <tr>\n",
       "      <th>3</th>\n",
       "      <td>4</td>\n",
       "      <td>2</td>\n",
       "      <td>audi 100 ls</td>\n",
       "      <td>gas</td>\n",
       "      <td>std</td>\n",
       "      <td>four</td>\n",
       "      <td>sedan</td>\n",
       "      <td>fwd</td>\n",
       "      <td>front</td>\n",
       "      <td>99.8</td>\n",
       "      <td>...</td>\n",
       "      <td>109</td>\n",
       "      <td>mpfi</td>\n",
       "      <td>3.19</td>\n",
       "      <td>3.40</td>\n",
       "      <td>10.0</td>\n",
       "      <td>102</td>\n",
       "      <td>5500</td>\n",
       "      <td>24</td>\n",
       "      <td>30</td>\n",
       "      <td>13950.0</td>\n",
       "    </tr>\n",
       "    <tr>\n",
       "      <th>4</th>\n",
       "      <td>5</td>\n",
       "      <td>2</td>\n",
       "      <td>audi 100ls</td>\n",
       "      <td>gas</td>\n",
       "      <td>std</td>\n",
       "      <td>four</td>\n",
       "      <td>sedan</td>\n",
       "      <td>4wd</td>\n",
       "      <td>front</td>\n",
       "      <td>99.4</td>\n",
       "      <td>...</td>\n",
       "      <td>136</td>\n",
       "      <td>mpfi</td>\n",
       "      <td>3.19</td>\n",
       "      <td>3.40</td>\n",
       "      <td>8.0</td>\n",
       "      <td>115</td>\n",
       "      <td>5500</td>\n",
       "      <td>18</td>\n",
       "      <td>22</td>\n",
       "      <td>17450.0</td>\n",
       "    </tr>\n",
       "  </tbody>\n",
       "</table>\n",
       "<p>5 rows × 26 columns</p>\n",
       "</div>"
      ],
      "text/plain": [
       "   car_ID  symboling                   CarName fueltype aspiration doornumber  \\\n",
       "0       1          3        alfa-romero giulia      gas        std        two   \n",
       "1       2          3       alfa-romero stelvio      gas        std        two   \n",
       "2       3          1  alfa-romero Quadrifoglio      gas        std        two   \n",
       "3       4          2               audi 100 ls      gas        std       four   \n",
       "4       5          2                audi 100ls      gas        std       four   \n",
       "\n",
       "       carbody drivewheel enginelocation  wheelbase  ...  enginesize  \\\n",
       "0  convertible        rwd          front       88.6  ...         130   \n",
       "1  convertible        rwd          front       88.6  ...         130   \n",
       "2    hatchback        rwd          front       94.5  ...         152   \n",
       "3        sedan        fwd          front       99.8  ...         109   \n",
       "4        sedan        4wd          front       99.4  ...         136   \n",
       "\n",
       "   fuelsystem  boreratio  stroke compressionratio horsepower  peakrpm citympg  \\\n",
       "0        mpfi       3.47    2.68              9.0        111     5000      21   \n",
       "1        mpfi       3.47    2.68              9.0        111     5000      21   \n",
       "2        mpfi       2.68    3.47              9.0        154     5000      19   \n",
       "3        mpfi       3.19    3.40             10.0        102     5500      24   \n",
       "4        mpfi       3.19    3.40              8.0        115     5500      18   \n",
       "\n",
       "   highwaympg    price  \n",
       "0          27  13495.0  \n",
       "1          27  16500.0  \n",
       "2          26  16500.0  \n",
       "3          30  13950.0  \n",
       "4          22  17450.0  \n",
       "\n",
       "[5 rows x 26 columns]"
      ]
     },
     "execution_count": 555,
     "metadata": {},
     "output_type": "execute_result"
    }
   ],
   "source": [
    "cars.head()"
   ]
  },
  {
   "cell_type": "code",
   "execution_count": 556,
   "metadata": {},
   "outputs": [
    {
     "data": {
      "text/html": [
       "<div>\n",
       "<style scoped>\n",
       "    .dataframe tbody tr th:only-of-type {\n",
       "        vertical-align: middle;\n",
       "    }\n",
       "\n",
       "    .dataframe tbody tr th {\n",
       "        vertical-align: top;\n",
       "    }\n",
       "\n",
       "    .dataframe thead th {\n",
       "        text-align: right;\n",
       "    }\n",
       "</style>\n",
       "<table border=\"1\" class=\"dataframe\">\n",
       "  <thead>\n",
       "    <tr style=\"text-align: right;\">\n",
       "      <th></th>\n",
       "      <th>car_ID</th>\n",
       "      <th>symboling</th>\n",
       "      <th>wheelbase</th>\n",
       "      <th>carlength</th>\n",
       "      <th>carwidth</th>\n",
       "      <th>carheight</th>\n",
       "      <th>curbweight</th>\n",
       "      <th>enginesize</th>\n",
       "      <th>boreratio</th>\n",
       "      <th>stroke</th>\n",
       "      <th>compressionratio</th>\n",
       "      <th>horsepower</th>\n",
       "      <th>peakrpm</th>\n",
       "      <th>citympg</th>\n",
       "      <th>highwaympg</th>\n",
       "      <th>price</th>\n",
       "    </tr>\n",
       "  </thead>\n",
       "  <tbody>\n",
       "    <tr>\n",
       "      <th>count</th>\n",
       "      <td>205.000000</td>\n",
       "      <td>205.000000</td>\n",
       "      <td>205.000000</td>\n",
       "      <td>205.000000</td>\n",
       "      <td>205.000000</td>\n",
       "      <td>205.000000</td>\n",
       "      <td>205.000000</td>\n",
       "      <td>205.000000</td>\n",
       "      <td>205.000000</td>\n",
       "      <td>205.000000</td>\n",
       "      <td>205.000000</td>\n",
       "      <td>205.000000</td>\n",
       "      <td>205.000000</td>\n",
       "      <td>205.000000</td>\n",
       "      <td>205.000000</td>\n",
       "      <td>205.000000</td>\n",
       "    </tr>\n",
       "    <tr>\n",
       "      <th>mean</th>\n",
       "      <td>103.000000</td>\n",
       "      <td>0.834146</td>\n",
       "      <td>98.756585</td>\n",
       "      <td>174.049268</td>\n",
       "      <td>65.907805</td>\n",
       "      <td>53.724878</td>\n",
       "      <td>2555.565854</td>\n",
       "      <td>126.907317</td>\n",
       "      <td>3.329756</td>\n",
       "      <td>3.255415</td>\n",
       "      <td>10.142537</td>\n",
       "      <td>104.117073</td>\n",
       "      <td>5125.121951</td>\n",
       "      <td>25.219512</td>\n",
       "      <td>30.751220</td>\n",
       "      <td>13276.710571</td>\n",
       "    </tr>\n",
       "    <tr>\n",
       "      <th>std</th>\n",
       "      <td>59.322565</td>\n",
       "      <td>1.245307</td>\n",
       "      <td>6.021776</td>\n",
       "      <td>12.337289</td>\n",
       "      <td>2.145204</td>\n",
       "      <td>2.443522</td>\n",
       "      <td>520.680204</td>\n",
       "      <td>41.642693</td>\n",
       "      <td>0.270844</td>\n",
       "      <td>0.313597</td>\n",
       "      <td>3.972040</td>\n",
       "      <td>39.544167</td>\n",
       "      <td>476.985643</td>\n",
       "      <td>6.542142</td>\n",
       "      <td>6.886443</td>\n",
       "      <td>7988.852332</td>\n",
       "    </tr>\n",
       "    <tr>\n",
       "      <th>min</th>\n",
       "      <td>1.000000</td>\n",
       "      <td>-2.000000</td>\n",
       "      <td>86.600000</td>\n",
       "      <td>141.100000</td>\n",
       "      <td>60.300000</td>\n",
       "      <td>47.800000</td>\n",
       "      <td>1488.000000</td>\n",
       "      <td>61.000000</td>\n",
       "      <td>2.540000</td>\n",
       "      <td>2.070000</td>\n",
       "      <td>7.000000</td>\n",
       "      <td>48.000000</td>\n",
       "      <td>4150.000000</td>\n",
       "      <td>13.000000</td>\n",
       "      <td>16.000000</td>\n",
       "      <td>5118.000000</td>\n",
       "    </tr>\n",
       "    <tr>\n",
       "      <th>25%</th>\n",
       "      <td>52.000000</td>\n",
       "      <td>0.000000</td>\n",
       "      <td>94.500000</td>\n",
       "      <td>166.300000</td>\n",
       "      <td>64.100000</td>\n",
       "      <td>52.000000</td>\n",
       "      <td>2145.000000</td>\n",
       "      <td>97.000000</td>\n",
       "      <td>3.150000</td>\n",
       "      <td>3.110000</td>\n",
       "      <td>8.600000</td>\n",
       "      <td>70.000000</td>\n",
       "      <td>4800.000000</td>\n",
       "      <td>19.000000</td>\n",
       "      <td>25.000000</td>\n",
       "      <td>7788.000000</td>\n",
       "    </tr>\n",
       "    <tr>\n",
       "      <th>50%</th>\n",
       "      <td>103.000000</td>\n",
       "      <td>1.000000</td>\n",
       "      <td>97.000000</td>\n",
       "      <td>173.200000</td>\n",
       "      <td>65.500000</td>\n",
       "      <td>54.100000</td>\n",
       "      <td>2414.000000</td>\n",
       "      <td>120.000000</td>\n",
       "      <td>3.310000</td>\n",
       "      <td>3.290000</td>\n",
       "      <td>9.000000</td>\n",
       "      <td>95.000000</td>\n",
       "      <td>5200.000000</td>\n",
       "      <td>24.000000</td>\n",
       "      <td>30.000000</td>\n",
       "      <td>10295.000000</td>\n",
       "    </tr>\n",
       "    <tr>\n",
       "      <th>75%</th>\n",
       "      <td>154.000000</td>\n",
       "      <td>2.000000</td>\n",
       "      <td>102.400000</td>\n",
       "      <td>183.100000</td>\n",
       "      <td>66.900000</td>\n",
       "      <td>55.500000</td>\n",
       "      <td>2935.000000</td>\n",
       "      <td>141.000000</td>\n",
       "      <td>3.580000</td>\n",
       "      <td>3.410000</td>\n",
       "      <td>9.400000</td>\n",
       "      <td>116.000000</td>\n",
       "      <td>5500.000000</td>\n",
       "      <td>30.000000</td>\n",
       "      <td>34.000000</td>\n",
       "      <td>16503.000000</td>\n",
       "    </tr>\n",
       "    <tr>\n",
       "      <th>max</th>\n",
       "      <td>205.000000</td>\n",
       "      <td>3.000000</td>\n",
       "      <td>120.900000</td>\n",
       "      <td>208.100000</td>\n",
       "      <td>72.300000</td>\n",
       "      <td>59.800000</td>\n",
       "      <td>4066.000000</td>\n",
       "      <td>326.000000</td>\n",
       "      <td>3.940000</td>\n",
       "      <td>4.170000</td>\n",
       "      <td>23.000000</td>\n",
       "      <td>288.000000</td>\n",
       "      <td>6600.000000</td>\n",
       "      <td>49.000000</td>\n",
       "      <td>54.000000</td>\n",
       "      <td>45400.000000</td>\n",
       "    </tr>\n",
       "  </tbody>\n",
       "</table>\n",
       "</div>"
      ],
      "text/plain": [
       "           car_ID   symboling   wheelbase   carlength    carwidth   carheight  \\\n",
       "count  205.000000  205.000000  205.000000  205.000000  205.000000  205.000000   \n",
       "mean   103.000000    0.834146   98.756585  174.049268   65.907805   53.724878   \n",
       "std     59.322565    1.245307    6.021776   12.337289    2.145204    2.443522   \n",
       "min      1.000000   -2.000000   86.600000  141.100000   60.300000   47.800000   \n",
       "25%     52.000000    0.000000   94.500000  166.300000   64.100000   52.000000   \n",
       "50%    103.000000    1.000000   97.000000  173.200000   65.500000   54.100000   \n",
       "75%    154.000000    2.000000  102.400000  183.100000   66.900000   55.500000   \n",
       "max    205.000000    3.000000  120.900000  208.100000   72.300000   59.800000   \n",
       "\n",
       "        curbweight  enginesize   boreratio      stroke  compressionratio  \\\n",
       "count   205.000000  205.000000  205.000000  205.000000        205.000000   \n",
       "mean   2555.565854  126.907317    3.329756    3.255415         10.142537   \n",
       "std     520.680204   41.642693    0.270844    0.313597          3.972040   \n",
       "min    1488.000000   61.000000    2.540000    2.070000          7.000000   \n",
       "25%    2145.000000   97.000000    3.150000    3.110000          8.600000   \n",
       "50%    2414.000000  120.000000    3.310000    3.290000          9.000000   \n",
       "75%    2935.000000  141.000000    3.580000    3.410000          9.400000   \n",
       "max    4066.000000  326.000000    3.940000    4.170000         23.000000   \n",
       "\n",
       "       horsepower      peakrpm     citympg  highwaympg         price  \n",
       "count  205.000000   205.000000  205.000000  205.000000    205.000000  \n",
       "mean   104.117073  5125.121951   25.219512   30.751220  13276.710571  \n",
       "std     39.544167   476.985643    6.542142    6.886443   7988.852332  \n",
       "min     48.000000  4150.000000   13.000000   16.000000   5118.000000  \n",
       "25%     70.000000  4800.000000   19.000000   25.000000   7788.000000  \n",
       "50%     95.000000  5200.000000   24.000000   30.000000  10295.000000  \n",
       "75%    116.000000  5500.000000   30.000000   34.000000  16503.000000  \n",
       "max    288.000000  6600.000000   49.000000   54.000000  45400.000000  "
      ]
     },
     "execution_count": 556,
     "metadata": {},
     "output_type": "execute_result"
    }
   ],
   "source": [
    "cars.describe()"
   ]
  },
  {
   "cell_type": "code",
   "execution_count": 557,
   "metadata": {},
   "outputs": [
    {
     "data": {
      "text/plain": [
       "Index(['car_ID', 'symboling', 'CarName', 'fueltype', 'aspiration',\n",
       "       'doornumber', 'carbody', 'drivewheel', 'enginelocation', 'wheelbase',\n",
       "       'carlength', 'carwidth', 'carheight', 'curbweight', 'enginetype',\n",
       "       'cylindernumber', 'enginesize', 'fuelsystem', 'boreratio', 'stroke',\n",
       "       'compressionratio', 'horsepower', 'peakrpm', 'citympg', 'highwaympg',\n",
       "       'price'],\n",
       "      dtype='object')"
      ]
     },
     "execution_count": 557,
     "metadata": {},
     "output_type": "execute_result"
    }
   ],
   "source": [
    "cars.columns"
   ]
  },
  {
   "cell_type": "code",
   "execution_count": 558,
   "metadata": {},
   "outputs": [
    {
     "name": "stdout",
     "output_type": "stream",
     "text": [
      "<class 'pandas.core.frame.DataFrame'>\n",
      "RangeIndex: 205 entries, 0 to 204\n",
      "Data columns (total 26 columns):\n",
      " #   Column            Non-Null Count  Dtype  \n",
      "---  ------            --------------  -----  \n",
      " 0   car_ID            205 non-null    int64  \n",
      " 1   symboling         205 non-null    int64  \n",
      " 2   CarName           205 non-null    object \n",
      " 3   fueltype          205 non-null    object \n",
      " 4   aspiration        205 non-null    object \n",
      " 5   doornumber        205 non-null    object \n",
      " 6   carbody           205 non-null    object \n",
      " 7   drivewheel        205 non-null    object \n",
      " 8   enginelocation    205 non-null    object \n",
      " 9   wheelbase         205 non-null    float64\n",
      " 10  carlength         205 non-null    float64\n",
      " 11  carwidth          205 non-null    float64\n",
      " 12  carheight         205 non-null    float64\n",
      " 13  curbweight        205 non-null    int64  \n",
      " 14  enginetype        205 non-null    object \n",
      " 15  cylindernumber    205 non-null    object \n",
      " 16  enginesize        205 non-null    int64  \n",
      " 17  fuelsystem        205 non-null    object \n",
      " 18  boreratio         205 non-null    float64\n",
      " 19  stroke            205 non-null    float64\n",
      " 20  compressionratio  205 non-null    float64\n",
      " 21  horsepower        205 non-null    int64  \n",
      " 22  peakrpm           205 non-null    int64  \n",
      " 23  citympg           205 non-null    int64  \n",
      " 24  highwaympg        205 non-null    int64  \n",
      " 25  price             205 non-null    float64\n",
      "dtypes: float64(8), int64(8), object(10)\n",
      "memory usage: 41.8+ KB\n"
     ]
    }
   ],
   "source": [
    "cars.info()\n",
    "#this indicates there are no null values"
   ]
  },
  {
   "cell_type": "code",
   "execution_count": 559,
   "metadata": {},
   "outputs": [
    {
     "data": {
      "text/html": [
       "<div>\n",
       "<style scoped>\n",
       "    .dataframe tbody tr th:only-of-type {\n",
       "        vertical-align: middle;\n",
       "    }\n",
       "\n",
       "    .dataframe tbody tr th {\n",
       "        vertical-align: top;\n",
       "    }\n",
       "\n",
       "    .dataframe thead th {\n",
       "        text-align: right;\n",
       "    }\n",
       "</style>\n",
       "<table border=\"1\" class=\"dataframe\">\n",
       "  <thead>\n",
       "    <tr style=\"text-align: right;\">\n",
       "      <th></th>\n",
       "      <th>symboling</th>\n",
       "      <th>fueltype</th>\n",
       "      <th>aspiration</th>\n",
       "      <th>doornumber</th>\n",
       "      <th>carbody</th>\n",
       "      <th>drivewheel</th>\n",
       "      <th>enginelocation</th>\n",
       "      <th>wheelbase</th>\n",
       "      <th>carlength</th>\n",
       "      <th>carwidth</th>\n",
       "      <th>...</th>\n",
       "      <th>enginesize</th>\n",
       "      <th>fuelsystem</th>\n",
       "      <th>boreratio</th>\n",
       "      <th>stroke</th>\n",
       "      <th>compressionratio</th>\n",
       "      <th>horsepower</th>\n",
       "      <th>peakrpm</th>\n",
       "      <th>citympg</th>\n",
       "      <th>highwaympg</th>\n",
       "      <th>price</th>\n",
       "    </tr>\n",
       "  </thead>\n",
       "  <tbody>\n",
       "    <tr>\n",
       "      <th>0</th>\n",
       "      <td>3</td>\n",
       "      <td>gas</td>\n",
       "      <td>std</td>\n",
       "      <td>two</td>\n",
       "      <td>convertible</td>\n",
       "      <td>rwd</td>\n",
       "      <td>front</td>\n",
       "      <td>88.6</td>\n",
       "      <td>168.8</td>\n",
       "      <td>64.1</td>\n",
       "      <td>...</td>\n",
       "      <td>130</td>\n",
       "      <td>mpfi</td>\n",
       "      <td>3.47</td>\n",
       "      <td>2.68</td>\n",
       "      <td>9.0</td>\n",
       "      <td>111</td>\n",
       "      <td>5000</td>\n",
       "      <td>21</td>\n",
       "      <td>27</td>\n",
       "      <td>13495.0</td>\n",
       "    </tr>\n",
       "    <tr>\n",
       "      <th>1</th>\n",
       "      <td>3</td>\n",
       "      <td>gas</td>\n",
       "      <td>std</td>\n",
       "      <td>two</td>\n",
       "      <td>convertible</td>\n",
       "      <td>rwd</td>\n",
       "      <td>front</td>\n",
       "      <td>88.6</td>\n",
       "      <td>168.8</td>\n",
       "      <td>64.1</td>\n",
       "      <td>...</td>\n",
       "      <td>130</td>\n",
       "      <td>mpfi</td>\n",
       "      <td>3.47</td>\n",
       "      <td>2.68</td>\n",
       "      <td>9.0</td>\n",
       "      <td>111</td>\n",
       "      <td>5000</td>\n",
       "      <td>21</td>\n",
       "      <td>27</td>\n",
       "      <td>16500.0</td>\n",
       "    </tr>\n",
       "    <tr>\n",
       "      <th>2</th>\n",
       "      <td>1</td>\n",
       "      <td>gas</td>\n",
       "      <td>std</td>\n",
       "      <td>two</td>\n",
       "      <td>hatchback</td>\n",
       "      <td>rwd</td>\n",
       "      <td>front</td>\n",
       "      <td>94.5</td>\n",
       "      <td>171.2</td>\n",
       "      <td>65.5</td>\n",
       "      <td>...</td>\n",
       "      <td>152</td>\n",
       "      <td>mpfi</td>\n",
       "      <td>2.68</td>\n",
       "      <td>3.47</td>\n",
       "      <td>9.0</td>\n",
       "      <td>154</td>\n",
       "      <td>5000</td>\n",
       "      <td>19</td>\n",
       "      <td>26</td>\n",
       "      <td>16500.0</td>\n",
       "    </tr>\n",
       "    <tr>\n",
       "      <th>3</th>\n",
       "      <td>2</td>\n",
       "      <td>gas</td>\n",
       "      <td>std</td>\n",
       "      <td>four</td>\n",
       "      <td>sedan</td>\n",
       "      <td>fwd</td>\n",
       "      <td>front</td>\n",
       "      <td>99.8</td>\n",
       "      <td>176.6</td>\n",
       "      <td>66.2</td>\n",
       "      <td>...</td>\n",
       "      <td>109</td>\n",
       "      <td>mpfi</td>\n",
       "      <td>3.19</td>\n",
       "      <td>3.40</td>\n",
       "      <td>10.0</td>\n",
       "      <td>102</td>\n",
       "      <td>5500</td>\n",
       "      <td>24</td>\n",
       "      <td>30</td>\n",
       "      <td>13950.0</td>\n",
       "    </tr>\n",
       "    <tr>\n",
       "      <th>4</th>\n",
       "      <td>2</td>\n",
       "      <td>gas</td>\n",
       "      <td>std</td>\n",
       "      <td>four</td>\n",
       "      <td>sedan</td>\n",
       "      <td>4wd</td>\n",
       "      <td>front</td>\n",
       "      <td>99.4</td>\n",
       "      <td>176.6</td>\n",
       "      <td>66.4</td>\n",
       "      <td>...</td>\n",
       "      <td>136</td>\n",
       "      <td>mpfi</td>\n",
       "      <td>3.19</td>\n",
       "      <td>3.40</td>\n",
       "      <td>8.0</td>\n",
       "      <td>115</td>\n",
       "      <td>5500</td>\n",
       "      <td>18</td>\n",
       "      <td>22</td>\n",
       "      <td>17450.0</td>\n",
       "    </tr>\n",
       "  </tbody>\n",
       "</table>\n",
       "<p>5 rows × 24 columns</p>\n",
       "</div>"
      ],
      "text/plain": [
       "   symboling fueltype aspiration doornumber      carbody drivewheel  \\\n",
       "0          3      gas        std        two  convertible        rwd   \n",
       "1          3      gas        std        two  convertible        rwd   \n",
       "2          1      gas        std        two    hatchback        rwd   \n",
       "3          2      gas        std       four        sedan        fwd   \n",
       "4          2      gas        std       four        sedan        4wd   \n",
       "\n",
       "  enginelocation  wheelbase  carlength  carwidth  ...  enginesize  fuelsystem  \\\n",
       "0          front       88.6      168.8      64.1  ...         130        mpfi   \n",
       "1          front       88.6      168.8      64.1  ...         130        mpfi   \n",
       "2          front       94.5      171.2      65.5  ...         152        mpfi   \n",
       "3          front       99.8      176.6      66.2  ...         109        mpfi   \n",
       "4          front       99.4      176.6      66.4  ...         136        mpfi   \n",
       "\n",
       "  boreratio stroke  compressionratio horsepower  peakrpm  citympg  highwaympg  \\\n",
       "0      3.47   2.68               9.0        111     5000       21          27   \n",
       "1      3.47   2.68               9.0        111     5000       21          27   \n",
       "2      2.68   3.47               9.0        154     5000       19          26   \n",
       "3      3.19   3.40              10.0        102     5500       24          30   \n",
       "4      3.19   3.40               8.0        115     5500       18          22   \n",
       "\n",
       "     price  \n",
       "0  13495.0  \n",
       "1  16500.0  \n",
       "2  16500.0  \n",
       "3  13950.0  \n",
       "4  17450.0  \n",
       "\n",
       "[5 rows x 24 columns]"
      ]
     },
     "execution_count": 559,
     "metadata": {},
     "output_type": "execute_result"
    }
   ],
   "source": [
    "# Dropping car name and id\n",
    "if 'car_ID' in cars.columns and 'CarName' in cars.columns:\n",
    "    cars.drop(['car_ID', 'CarName'], axis=1, inplace=True)\n",
    "cars.head()"
   ]
  },
  {
   "cell_type": "code",
   "execution_count": 560,
   "metadata": {},
   "outputs": [],
   "source": [
    "#X contains everything except the price column\n",
    "X = cars.drop('price',axis=1) \n",
    "#Y contains the price column\n",
    "Y = cars['price']"
   ]
  },
  {
   "cell_type": "code",
   "execution_count": 561,
   "metadata": {},
   "outputs": [
    {
     "name": "stdout",
     "output_type": "stream",
     "text": [
      "X_train shape: (164, 23)\n",
      "X_test shape: (41, 23)\n",
      "Y_train shape: (164,)\n",
      "Y_test shape: (41,)\n"
     ]
    }
   ],
   "source": [
    "# Set the random seed for reproducibility\n",
    "np.random.seed(42)\n",
    "\n",
    "# Shuffle the indices\n",
    "shuffled_indices = np.random.permutation(len(X))\n",
    "\n",
    "# Define the split index\n",
    "split_index = int(len(X) * 0.8)\n",
    "\n",
    "# Split the indices into training and testing sets\n",
    "train_indices = shuffled_indices[:split_index]\n",
    "test_indices = shuffled_indices[split_index:]\n",
    "\n",
    "# Split the data into training and testing sets\n",
    "X_train = X.iloc[train_indices]\n",
    "X_test = X.iloc[test_indices]\n",
    "Y_train = Y.iloc[train_indices]\n",
    "Y_test = Y.iloc[test_indices]\n",
    "\n",
    "# Display the shapes of the resulting datasets\n",
    "print(f'X_train shape: {X_train.shape}')\n",
    "print(f'X_test shape: {X_test.shape}')\n",
    "print(f'Y_train shape: {Y_train.shape}')\n",
    "print(f'Y_test shape: {Y_test.shape}')"
   ]
  },
  {
   "cell_type": "code",
   "execution_count": 562,
   "metadata": {},
   "outputs": [
    {
     "name": "stdout",
     "output_type": "stream",
     "text": [
      "Index(['fueltype', 'aspiration', 'doornumber', 'carbody', 'drivewheel',\n",
      "       'enginelocation', 'enginetype', 'cylindernumber', 'fuelsystem'],\n",
      "      dtype='object')\n"
     ]
    }
   ],
   "source": [
    "# Select columns with object data type\n",
    "object_columns = X_train.select_dtypes(include=['object']).columns\n",
    "\n",
    "# Print the object columns\n",
    "print(object_columns)"
   ]
  },
  {
   "cell_type": "code",
   "execution_count": 563,
   "metadata": {},
   "outputs": [
    {
     "name": "stderr",
     "output_type": "stream",
     "text": [
      "C:\\Users\\abhin\\AppData\\Local\\Temp\\ipykernel_8180\\621329388.py:2: FutureWarning: Downcasting behavior in `replace` is deprecated and will be removed in a future version. To retain the old behavior, explicitly call `result.infer_objects(copy=False)`. To opt-in to the future behavior, set `pd.set_option('future.no_silent_downcasting', True)`\n",
      "  X_train['fueltype'] = X_train['fueltype'].replace({'gas': 1, 'diesel': 0})\n",
      "C:\\Users\\abhin\\AppData\\Local\\Temp\\ipykernel_8180\\621329388.py:2: SettingWithCopyWarning: \n",
      "A value is trying to be set on a copy of a slice from a DataFrame.\n",
      "Try using .loc[row_indexer,col_indexer] = value instead\n",
      "\n",
      "See the caveats in the documentation: https://pandas.pydata.org/pandas-docs/stable/user_guide/indexing.html#returning-a-view-versus-a-copy\n",
      "  X_train['fueltype'] = X_train['fueltype'].replace({'gas': 1, 'diesel': 0})\n",
      "C:\\Users\\abhin\\AppData\\Local\\Temp\\ipykernel_8180\\621329388.py:3: FutureWarning: Downcasting behavior in `replace` is deprecated and will be removed in a future version. To retain the old behavior, explicitly call `result.infer_objects(copy=False)`. To opt-in to the future behavior, set `pd.set_option('future.no_silent_downcasting', True)`\n",
      "  X_test['fueltype'] = X_test['fueltype'].replace({'gas': 1, 'diesel': 0})\n",
      "C:\\Users\\abhin\\AppData\\Local\\Temp\\ipykernel_8180\\621329388.py:3: SettingWithCopyWarning: \n",
      "A value is trying to be set on a copy of a slice from a DataFrame.\n",
      "Try using .loc[row_indexer,col_indexer] = value instead\n",
      "\n",
      "See the caveats in the documentation: https://pandas.pydata.org/pandas-docs/stable/user_guide/indexing.html#returning-a-view-versus-a-copy\n",
      "  X_test['fueltype'] = X_test['fueltype'].replace({'gas': 1, 'diesel': 0})\n"
     ]
    }
   ],
   "source": [
    "# Replace 'gas' with 1 and 'diesel' with 0 in the 'fueltype' column\n",
    "X_train['fueltype'] = X_train['fueltype'].replace({'gas': 1, 'diesel': 0})\n",
    "X_test['fueltype'] = X_test['fueltype'].replace({'gas': 1, 'diesel': 0})"
   ]
  },
  {
   "cell_type": "code",
   "execution_count": 564,
   "metadata": {},
   "outputs": [
    {
     "data": {
      "text/plain": [
       "aspiration\n",
       "std      133\n",
       "turbo     31\n",
       "Name: count, dtype: int64"
      ]
     },
     "execution_count": 564,
     "metadata": {},
     "output_type": "execute_result"
    }
   ],
   "source": [
    "X_train['aspiration'].value_counts()"
   ]
  },
  {
   "cell_type": "code",
   "execution_count": 565,
   "metadata": {},
   "outputs": [
    {
     "name": "stderr",
     "output_type": "stream",
     "text": [
      "C:\\Users\\abhin\\AppData\\Local\\Temp\\ipykernel_8180\\1906432453.py:2: FutureWarning: Downcasting behavior in `replace` is deprecated and will be removed in a future version. To retain the old behavior, explicitly call `result.infer_objects(copy=False)`. To opt-in to the future behavior, set `pd.set_option('future.no_silent_downcasting', True)`\n",
      "  X_train['aspiration'] = X_train['aspiration'].replace({'turbo': 0, 'std': 1})\n",
      "C:\\Users\\abhin\\AppData\\Local\\Temp\\ipykernel_8180\\1906432453.py:2: SettingWithCopyWarning: \n",
      "A value is trying to be set on a copy of a slice from a DataFrame.\n",
      "Try using .loc[row_indexer,col_indexer] = value instead\n",
      "\n",
      "See the caveats in the documentation: https://pandas.pydata.org/pandas-docs/stable/user_guide/indexing.html#returning-a-view-versus-a-copy\n",
      "  X_train['aspiration'] = X_train['aspiration'].replace({'turbo': 0, 'std': 1})\n",
      "C:\\Users\\abhin\\AppData\\Local\\Temp\\ipykernel_8180\\1906432453.py:3: FutureWarning: Downcasting behavior in `replace` is deprecated and will be removed in a future version. To retain the old behavior, explicitly call `result.infer_objects(copy=False)`. To opt-in to the future behavior, set `pd.set_option('future.no_silent_downcasting', True)`\n",
      "  X_test['aspiration'] = X_test['aspiration'].replace({'turbo': 0, 'std': 1})\n",
      "C:\\Users\\abhin\\AppData\\Local\\Temp\\ipykernel_8180\\1906432453.py:3: SettingWithCopyWarning: \n",
      "A value is trying to be set on a copy of a slice from a DataFrame.\n",
      "Try using .loc[row_indexer,col_indexer] = value instead\n",
      "\n",
      "See the caveats in the documentation: https://pandas.pydata.org/pandas-docs/stable/user_guide/indexing.html#returning-a-view-versus-a-copy\n",
      "  X_test['aspiration'] = X_test['aspiration'].replace({'turbo': 0, 'std': 1})\n"
     ]
    }
   ],
   "source": [
    "# Replace 'turbo' with 0 and 'std' with 1 in the 'aspiration' column\n",
    "X_train['aspiration'] = X_train['aspiration'].replace({'turbo': 0, 'std': 1})\n",
    "X_test['aspiration'] = X_test['aspiration'].replace({'turbo': 0, 'std': 1})"
   ]
  },
  {
   "cell_type": "code",
   "execution_count": 566,
   "metadata": {},
   "outputs": [
    {
     "data": {
      "text/plain": [
       "doornumber\n",
       "four    89\n",
       "two     75\n",
       "Name: count, dtype: int64"
      ]
     },
     "execution_count": 566,
     "metadata": {},
     "output_type": "execute_result"
    }
   ],
   "source": [
    "X_train['doornumber'].value_counts()"
   ]
  },
  {
   "cell_type": "code",
   "execution_count": 567,
   "metadata": {},
   "outputs": [
    {
     "name": "stderr",
     "output_type": "stream",
     "text": [
      "C:\\Users\\abhin\\AppData\\Local\\Temp\\ipykernel_8180\\866725835.py:1: FutureWarning: Downcasting behavior in `replace` is deprecated and will be removed in a future version. To retain the old behavior, explicitly call `result.infer_objects(copy=False)`. To opt-in to the future behavior, set `pd.set_option('future.no_silent_downcasting', True)`\n",
      "  X_train['doornumber'] = X_train['doornumber'].replace({'two': 2, 'four': 4})\n",
      "C:\\Users\\abhin\\AppData\\Local\\Temp\\ipykernel_8180\\866725835.py:1: SettingWithCopyWarning: \n",
      "A value is trying to be set on a copy of a slice from a DataFrame.\n",
      "Try using .loc[row_indexer,col_indexer] = value instead\n",
      "\n",
      "See the caveats in the documentation: https://pandas.pydata.org/pandas-docs/stable/user_guide/indexing.html#returning-a-view-versus-a-copy\n",
      "  X_train['doornumber'] = X_train['doornumber'].replace({'two': 2, 'four': 4})\n",
      "C:\\Users\\abhin\\AppData\\Local\\Temp\\ipykernel_8180\\866725835.py:2: FutureWarning: Downcasting behavior in `replace` is deprecated and will be removed in a future version. To retain the old behavior, explicitly call `result.infer_objects(copy=False)`. To opt-in to the future behavior, set `pd.set_option('future.no_silent_downcasting', True)`\n",
      "  X_test['doornumber'] = X_test['doornumber'].replace({'two': 2, 'four': 4})\n",
      "C:\\Users\\abhin\\AppData\\Local\\Temp\\ipykernel_8180\\866725835.py:2: SettingWithCopyWarning: \n",
      "A value is trying to be set on a copy of a slice from a DataFrame.\n",
      "Try using .loc[row_indexer,col_indexer] = value instead\n",
      "\n",
      "See the caveats in the documentation: https://pandas.pydata.org/pandas-docs/stable/user_guide/indexing.html#returning-a-view-versus-a-copy\n",
      "  X_test['doornumber'] = X_test['doornumber'].replace({'two': 2, 'four': 4})\n"
     ]
    }
   ],
   "source": [
    "X_train['doornumber'] = X_train['doornumber'].replace({'two': 2, 'four': 4})\n",
    "X_test['doornumber'] = X_test['doornumber'].replace({'two': 2, 'four': 4})"
   ]
  },
  {
   "cell_type": "code",
   "execution_count": 568,
   "metadata": {},
   "outputs": [
    {
     "data": {
      "text/plain": [
       "carbody\n",
       "sedan          77\n",
       "hatchback      55\n",
       "wagon          20\n",
       "hardtop         7\n",
       "convertible     5\n",
       "Name: count, dtype: int64"
      ]
     },
     "execution_count": 568,
     "metadata": {},
     "output_type": "execute_result"
    }
   ],
   "source": [
    "X_train['carbody'].value_counts()"
   ]
  },
  {
   "cell_type": "code",
   "execution_count": 569,
   "metadata": {},
   "outputs": [
    {
     "data": {
      "text/plain": [
       "enginelocation\n",
       "front    161\n",
       "rear       3\n",
       "Name: count, dtype: int64"
      ]
     },
     "execution_count": 569,
     "metadata": {},
     "output_type": "execute_result"
    }
   ],
   "source": [
    "X_train['enginelocation'].value_counts()"
   ]
  },
  {
   "cell_type": "code",
   "execution_count": 570,
   "metadata": {},
   "outputs": [
    {
     "name": "stderr",
     "output_type": "stream",
     "text": [
      "C:\\Users\\abhin\\AppData\\Local\\Temp\\ipykernel_8180\\3308426232.py:1: FutureWarning: Downcasting behavior in `replace` is deprecated and will be removed in a future version. To retain the old behavior, explicitly call `result.infer_objects(copy=False)`. To opt-in to the future behavior, set `pd.set_option('future.no_silent_downcasting', True)`\n",
      "  X_train['enginelocation'] = X_train['enginelocation'].replace({'front': 1, 'rear': 0})\n",
      "C:\\Users\\abhin\\AppData\\Local\\Temp\\ipykernel_8180\\3308426232.py:1: SettingWithCopyWarning: \n",
      "A value is trying to be set on a copy of a slice from a DataFrame.\n",
      "Try using .loc[row_indexer,col_indexer] = value instead\n",
      "\n",
      "See the caveats in the documentation: https://pandas.pydata.org/pandas-docs/stable/user_guide/indexing.html#returning-a-view-versus-a-copy\n",
      "  X_train['enginelocation'] = X_train['enginelocation'].replace({'front': 1, 'rear': 0})\n",
      "C:\\Users\\abhin\\AppData\\Local\\Temp\\ipykernel_8180\\3308426232.py:2: FutureWarning: Downcasting behavior in `replace` is deprecated and will be removed in a future version. To retain the old behavior, explicitly call `result.infer_objects(copy=False)`. To opt-in to the future behavior, set `pd.set_option('future.no_silent_downcasting', True)`\n",
      "  X_test['enginelocation'] = X_test['enginelocation'].replace({'front': 1, 'rear': 0})\n",
      "C:\\Users\\abhin\\AppData\\Local\\Temp\\ipykernel_8180\\3308426232.py:2: SettingWithCopyWarning: \n",
      "A value is trying to be set on a copy of a slice from a DataFrame.\n",
      "Try using .loc[row_indexer,col_indexer] = value instead\n",
      "\n",
      "See the caveats in the documentation: https://pandas.pydata.org/pandas-docs/stable/user_guide/indexing.html#returning-a-view-versus-a-copy\n",
      "  X_test['enginelocation'] = X_test['enginelocation'].replace({'front': 1, 'rear': 0})\n"
     ]
    }
   ],
   "source": [
    "X_train['enginelocation'] = X_train['enginelocation'].replace({'front': 1, 'rear': 0})\n",
    "X_test['enginelocation'] = X_test['enginelocation'].replace({'front': 1, 'rear': 0})"
   ]
  },
  {
   "cell_type": "code",
   "execution_count": 571,
   "metadata": {},
   "outputs": [
    {
     "data": {
      "text/plain": [
       "enginetype\n",
       "ohc      122\n",
       "ohcf      14\n",
       "l         10\n",
       "ohcv       8\n",
       "dohc       8\n",
       "rotor      2\n",
       "Name: count, dtype: int64"
      ]
     },
     "execution_count": 571,
     "metadata": {},
     "output_type": "execute_result"
    }
   ],
   "source": [
    "X_train['enginetype'].value_counts()"
   ]
  },
  {
   "cell_type": "code",
   "execution_count": 572,
   "metadata": {},
   "outputs": [
    {
     "name": "stderr",
     "output_type": "stream",
     "text": [
      "C:\\Users\\abhin\\AppData\\Local\\Temp\\ipykernel_8180\\3230308429.py:1: FutureWarning: Downcasting behavior in `replace` is deprecated and will be removed in a future version. To retain the old behavior, explicitly call `result.infer_objects(copy=False)`. To opt-in to the future behavior, set `pd.set_option('future.no_silent_downcasting', True)`\n",
      "  X['cylindernumber'] = X['cylindernumber'].replace({'four': 4, 'six': 6, 'five': 5, 'eight': 8, 'two': 2, 'three': 3, 'twelve': 12}).astype(int)\n",
      "C:\\Users\\abhin\\AppData\\Local\\Temp\\ipykernel_8180\\3230308429.py:2: FutureWarning: Downcasting behavior in `replace` is deprecated and will be removed in a future version. To retain the old behavior, explicitly call `result.infer_objects(copy=False)`. To opt-in to the future behavior, set `pd.set_option('future.no_silent_downcasting', True)`\n",
      "  X_train['cylindernumber'] = X_train['cylindernumber'].replace({'four': 4, 'six': 6, 'five': 5, 'eight': 8, 'two': 2, 'three': 3, 'twelve': 12}).astype(int)\n",
      "C:\\Users\\abhin\\AppData\\Local\\Temp\\ipykernel_8180\\3230308429.py:2: SettingWithCopyWarning: \n",
      "A value is trying to be set on a copy of a slice from a DataFrame.\n",
      "Try using .loc[row_indexer,col_indexer] = value instead\n",
      "\n",
      "See the caveats in the documentation: https://pandas.pydata.org/pandas-docs/stable/user_guide/indexing.html#returning-a-view-versus-a-copy\n",
      "  X_train['cylindernumber'] = X_train['cylindernumber'].replace({'four': 4, 'six': 6, 'five': 5, 'eight': 8, 'two': 2, 'three': 3, 'twelve': 12}).astype(int)\n",
      "C:\\Users\\abhin\\AppData\\Local\\Temp\\ipykernel_8180\\3230308429.py:3: FutureWarning: Downcasting behavior in `replace` is deprecated and will be removed in a future version. To retain the old behavior, explicitly call `result.infer_objects(copy=False)`. To opt-in to the future behavior, set `pd.set_option('future.no_silent_downcasting', True)`\n",
      "  X_test['cylindernumber'] = X_test['cylindernumber'].replace({'four': 4, 'six': 6, 'five': 5, 'eight': 8, 'two': 2, 'three': 3, 'twelve': 12}).astype(int)\n",
      "C:\\Users\\abhin\\AppData\\Local\\Temp\\ipykernel_8180\\3230308429.py:3: SettingWithCopyWarning: \n",
      "A value is trying to be set on a copy of a slice from a DataFrame.\n",
      "Try using .loc[row_indexer,col_indexer] = value instead\n",
      "\n",
      "See the caveats in the documentation: https://pandas.pydata.org/pandas-docs/stable/user_guide/indexing.html#returning-a-view-versus-a-copy\n",
      "  X_test['cylindernumber'] = X_test['cylindernumber'].replace({'four': 4, 'six': 6, 'five': 5, 'eight': 8, 'two': 2, 'three': 3, 'twelve': 12}).astype(int)\n"
     ]
    }
   ],
   "source": [
    "X['cylindernumber'] = X['cylindernumber'].replace({'four': 4, 'six': 6, 'five': 5, 'eight': 8, 'two': 2, 'three': 3, 'twelve': 12}).astype(int)\n",
    "X_train['cylindernumber'] = X_train['cylindernumber'].replace({'four': 4, 'six': 6, 'five': 5, 'eight': 8, 'two': 2, 'three': 3, 'twelve': 12}).astype(int)\n",
    "X_test['cylindernumber'] = X_test['cylindernumber'].replace({'four': 4, 'six': 6, 'five': 5, 'eight': 8, 'two': 2, 'three': 3, 'twelve': 12}).astype(int)\n"
   ]
  },
  {
   "cell_type": "code",
   "execution_count": 573,
   "metadata": {},
   "outputs": [
    {
     "data": {
      "text/plain": [
       "fuelsystem\n",
       "mpfi    70\n",
       "2bbl    55\n",
       "idi     18\n",
       "1bbl    10\n",
       "spdi     7\n",
       "4bbl     2\n",
       "mfi      1\n",
       "spfi     1\n",
       "Name: count, dtype: int64"
      ]
     },
     "execution_count": 573,
     "metadata": {},
     "output_type": "execute_result"
    }
   ],
   "source": [
    "X_train['fuelsystem'].value_counts()"
   ]
  },
  {
   "cell_type": "code",
   "execution_count": 574,
   "metadata": {},
   "outputs": [
    {
     "name": "stdout",
     "output_type": "stream",
     "text": [
      "Index(['symboling', 'fueltype', 'aspiration', 'doornumber', 'carbody',\n",
      "       'drivewheel', 'enginelocation', 'wheelbase', 'carlength', 'carwidth',\n",
      "       'carheight', 'curbweight', 'enginetype', 'cylindernumber', 'enginesize',\n",
      "       'fuelsystem', 'boreratio', 'stroke', 'compressionratio', 'horsepower',\n",
      "       'peakrpm', 'citympg', 'highwaympg'],\n",
      "      dtype='object')\n"
     ]
    }
   ],
   "source": [
    "print(X_train.columns)"
   ]
  },
  {
   "cell_type": "code",
   "execution_count": 575,
   "metadata": {},
   "outputs": [
    {
     "name": "stdout",
     "output_type": "stream",
     "text": [
      "int64\n"
     ]
    }
   ],
   "source": [
    "print(X_train['cylindernumber'].dtype)"
   ]
  },
  {
   "cell_type": "code",
   "execution_count": 576,
   "metadata": {},
   "outputs": [
    {
     "data": {
      "image/png": "[encoded data removed]",
      "text/plain": [
       "<Figure size 1200x800 with 2 Axes>"
      ]
     },
     "metadata": {},
     "output_type": "display_data"
    }
   ],
   "source": [
    "# Ensure all columns are numerical for correlation matrix\n",
    "numerical_cols = cars.select_dtypes(include=[np.number]).columns\n",
    "correlation_matrix = cars[numerical_cols].corr()\n",
    "\n",
    "# Plot the heatmap using matplotlib\n",
    "plt.figure(figsize=(12, 8))\n",
    "plt.imshow(correlation_matrix, cmap='coolwarm', interpolation='none')\n",
    "plt.colorbar()\n",
    "plt.xticks(range(len(correlation_matrix.columns)), correlation_matrix.columns, rotation=90)\n",
    "plt.yticks(range(len(correlation_matrix.columns)), correlation_matrix.columns)\n",
    "plt.title('Correlation Matrix')\n",
    "plt.show()\n"
   ]
  },
  {
   "cell_type": "code",
   "execution_count": 577,
   "metadata": {},
   "outputs": [
    {
     "name": "stdout",
     "output_type": "stream",
     "text": [
      "carwidth      0.759325\n",
      "curbweight    0.835305\n",
      "enginesize    0.874145\n",
      "horsepower    0.808139\n",
      "price         1.000000\n",
      "Name: price, dtype: float64\n"
     ]
    }
   ],
   "source": [
    "# Define a threshold for high correlation\n",
    "threshold = 0.7\n",
    "\n",
    "# Get the correlation values with the target variable 'price'\n",
    "correlation_with_price = correlation_matrix['price']\n",
    "\n",
    "# Filter the features that have a high correlation with 'price'\n",
    "high_correlation_features = correlation_with_price[correlation_with_price.abs() > threshold]\n",
    "\n",
    "# Display the features with high correlation\n",
    "print(high_correlation_features)"
   ]
  },
  {
   "cell_type": "code",
   "execution_count": 578,
   "metadata": {},
   "outputs": [
    {
     "name": "stderr",
     "output_type": "stream",
     "text": [
      "C:\\Users\\abhin\\AppData\\Local\\Temp\\ipykernel_8180\\2106130005.py:2: SettingWithCopyWarning: \n",
      "A value is trying to be set on a copy of a slice from a DataFrame\n",
      "\n",
      "See the caveats in the documentation: https://pandas.pydata.org/pandas-docs/stable/user_guide/indexing.html#returning-a-view-versus-a-copy\n",
      "  X_train.drop(['carwidth', 'curbweight', 'enginesize', 'horsepower'], axis=1, inplace=True)\n",
      "C:\\Users\\abhin\\AppData\\Local\\Temp\\ipykernel_8180\\2106130005.py:3: SettingWithCopyWarning: \n",
      "A value is trying to be set on a copy of a slice from a DataFrame\n",
      "\n",
      "See the caveats in the documentation: https://pandas.pydata.org/pandas-docs/stable/user_guide/indexing.html#returning-a-view-versus-a-copy\n",
      "  X_test.drop(['carwidth', 'curbweight', 'enginesize', 'horsepower'], axis=1, inplace=True)\n"
     ]
    }
   ],
   "source": [
    "# Drop the highly correlated features from the training and testing sets\n",
    "X_train.drop(['carwidth', 'curbweight', 'enginesize', 'horsepower'], axis=1, inplace=True)\n",
    "X_test.drop(['carwidth', 'curbweight', 'enginesize', 'horsepower'], axis=1, inplace=True)\n"
   ]
  },
  {
   "cell_type": "code",
   "execution_count": 579,
   "metadata": {},
   "outputs": [
    {
     "name": "stdout",
     "output_type": "stream",
     "text": [
      "Index(['carbody', 'drivewheel', 'enginetype', 'fuelsystem'], dtype='object')\n"
     ]
    }
   ],
   "source": [
    "# Select columns with object data type\n",
    "object_columns = X_train.select_dtypes(include=['object']).columns\n",
    "\n",
    "# Print the object columns\n",
    "print(object_columns)"
   ]
  },
  {
   "cell_type": "code",
   "execution_count": 580,
   "metadata": {},
   "outputs": [
    {
     "name": "stdout",
     "output_type": "stream",
     "text": [
      "     symboling  fueltype  aspiration  doornumber  enginelocation  wheelbase  \\\n",
      "15           0         1           1           4               1      103.5   \n",
      "9            0         1           0           2               1       99.5   \n",
      "100          0         1           1           4               1       97.2   \n",
      "132          3         1           1           2               1       99.1   \n",
      "68          -1         0           0           4               1      110.0   \n",
      "\n",
      "     carlength  carheight  cylindernumber  boreratio  ...  enginetype_ohcv  \\\n",
      "15       189.0       55.7               6       3.62  ...            False   \n",
      "9        178.2       52.0               5       3.13  ...            False   \n",
      "100      173.4       54.7               4       3.33  ...            False   \n",
      "132      186.6       56.1               4       3.54  ...            False   \n",
      "68       190.9       58.7               5       3.58  ...            False   \n",
      "\n",
      "     enginetype_rotor  fuelsystem_1bbl  fuelsystem_2bbl  fuelsystem_4bbl  \\\n",
      "15              False            False            False            False   \n",
      "9               False            False            False            False   \n",
      "100             False            False             True            False   \n",
      "132             False            False            False            False   \n",
      "68              False            False            False            False   \n",
      "\n",
      "     fuelsystem_idi  fuelsystem_mfi  fuelsystem_mpfi  fuelsystem_spdi  \\\n",
      "15            False           False             True            False   \n",
      "9             False           False             True            False   \n",
      "100           False           False            False            False   \n",
      "132           False           False             True            False   \n",
      "68             True           False            False            False   \n",
      "\n",
      "     fuelsystem_spfi  \n",
      "15             False  \n",
      "9              False  \n",
      "100            False  \n",
      "132            False  \n",
      "68             False  \n",
      "\n",
      "[5 rows x 37 columns]\n"
     ]
    }
   ],
   "source": [
    "# Convert categorical columns to numerical using one-hot encoding\n",
    "X_train = pd.get_dummies(X_train, columns=['carbody', 'drivewheel', 'enginetype', 'fuelsystem'])\n",
    "X_test = pd.get_dummies(X_test, columns=['carbody', 'drivewheel', 'enginetype', 'fuelsystem'])\n",
    "\n",
    "X_train, X_test = X_train.align(X_test, join='left', axis=1, fill_value=0)\n",
    "# Display the first few rows of the transformed training data\n",
    "print(X_train.head())"
   ]
  },
  {
   "cell_type": "code",
   "execution_count": 581,
   "metadata": {},
   "outputs": [
    {
     "name": "stdout",
     "output_type": "stream",
     "text": [
      "     symboling  fueltype  aspiration  doornumber  enginelocation  wheelbase  \\\n",
      "15           0         1           1           4               1        103   \n",
      "9            0         1           0           2               1         99   \n",
      "100          0         1           1           4               1         97   \n",
      "132          3         1           1           2               1         99   \n",
      "68          -1         0           0           4               1        110   \n",
      "\n",
      "     carlength  carheight  cylindernumber  boreratio  ...  enginetype_ohcv  \\\n",
      "15         189         55               6          3  ...                0   \n",
      "9          178         52               5          3  ...                0   \n",
      "100        173         54               4          3  ...                0   \n",
      "132        186         56               4          3  ...                0   \n",
      "68         190         58               5          3  ...                0   \n",
      "\n",
      "     enginetype_rotor  fuelsystem_1bbl  fuelsystem_2bbl  fuelsystem_4bbl  \\\n",
      "15                  0                0                0                0   \n",
      "9                   0                0                0                0   \n",
      "100                 0                0                1                0   \n",
      "132                 0                0                0                0   \n",
      "68                  0                0                0                0   \n",
      "\n",
      "     fuelsystem_idi  fuelsystem_mfi  fuelsystem_mpfi  fuelsystem_spdi  \\\n",
      "15                0               0                1                0   \n",
      "9                 0               0                1                0   \n",
      "100               0               0                0                0   \n",
      "132               0               0                1                0   \n",
      "68                1               0                0                0   \n",
      "\n",
      "     fuelsystem_spfi  \n",
      "15                 0  \n",
      "9                  0  \n",
      "100                0  \n",
      "132                0  \n",
      "68                 0  \n",
      "\n",
      "[5 rows x 37 columns]\n"
     ]
    }
   ],
   "source": [
    "# Convert boolean values to 1 and 0 in the DataFrame\n",
    "X_train = X_train.astype(int)\n",
    "X_test = X_test.astype(int)\n",
    "\n",
    "# Display the first few rows of the transformed training data\n",
    "print(X_train.head())"
   ]
  },
  {
   "cell_type": "code",
   "execution_count": 582,
   "metadata": {},
   "outputs": [
    {
     "name": "stdout",
     "output_type": "stream",
     "text": [
      "Null values in training data:\n",
      "Series([], dtype: int64)\n",
      "Null values in testing data:\n",
      "Series([], dtype: int64)\n"
     ]
    }
   ],
   "source": [
    "# Check for null values in the training data\n",
    "null_values_train = X_train.isnull().sum()\n",
    "print(\"Null values in training data:\")\n",
    "print(null_values_train[null_values_train > 0])\n",
    "\n",
    "# Check for null values in the testing data\n",
    "null_values_test = X_test.isnull().sum()\n",
    "print(\"Null values in testing data:\")\n",
    "print(null_values_test[null_values_test > 0])"
   ]
  },
  {
   "cell_type": "code",
   "execution_count": 583,
   "metadata": {},
   "outputs": [],
   "source": [
    "# Normalize the training and testing data\n",
    "X_train = (X_train - X_train.mean()) / X_train.std()\n",
    "X_test = (X_test - X_test.mean()) / X_test.std()"
   ]
  },
  {
   "cell_type": "code",
   "execution_count": 584,
   "metadata": {},
   "outputs": [
    {
     "name": "stdout",
     "output_type": "stream",
     "text": [
      "     symboling  fueltype  aspiration  doornumber  enginelocation  wheelbase  \\\n",
      "15   -0.718806  0.350051    0.481312    0.915182        0.136088   0.819313   \n",
      "9    -0.718806  0.350051   -2.064985   -1.086016        0.136088   0.155771   \n",
      "100  -0.718806  0.350051    0.481312    0.915182        0.136088  -0.176001   \n",
      "132   1.703471  0.350051    0.481312   -1.086016        0.136088   0.155771   \n",
      "68   -1.526232 -2.839305   -2.064985    0.915182        0.136088   1.980512   \n",
      "\n",
      "     carlength  carheight  cylindernumber  boreratio  ...  enginetype_ohcv  \\\n",
      "15    1.316799   0.698630        1.649064    0.37154  ...        -0.225764   \n",
      "9     0.422070  -0.499021        0.654775    0.37154  ...        -0.225764   \n",
      "100   0.015375   0.299413       -0.339513    0.37154  ...        -0.225764   \n",
      "132   1.072782   1.097847       -0.339513    0.37154  ...        -0.225764   \n",
      "68    1.398137   1.896281        0.654775    0.37154  ...        -0.225764   \n",
      "\n",
      "     enginetype_rotor  fuelsystem_1bbl  fuelsystem_2bbl  fuelsystem_4bbl  \\\n",
      "15          -0.110772        -0.254046        -0.708174        -0.110772   \n",
      "9           -0.110772        -0.254046        -0.708174        -0.110772   \n",
      "100         -0.110772        -0.254046         1.403472        -0.110772   \n",
      "132         -0.110772        -0.254046        -0.708174        -0.110772   \n",
      "68          -0.110772        -0.254046        -0.708174        -0.110772   \n",
      "\n",
      "     fuelsystem_idi  fuelsystem_mfi  fuelsystem_mpfi  fuelsystem_spdi  \\\n",
      "15        -0.350051       -0.078087         1.155279        -0.210509   \n",
      "9         -0.350051       -0.078087         1.155279        -0.210509   \n",
      "100       -0.350051       -0.078087        -0.860314        -0.210509   \n",
      "132       -0.350051       -0.078087         1.155279        -0.210509   \n",
      "68         2.839305       -0.078087        -0.860314        -0.210509   \n",
      "\n",
      "     fuelsystem_spfi  \n",
      "15         -0.078087  \n",
      "9          -0.078087  \n",
      "100        -0.078087  \n",
      "132        -0.078087  \n",
      "68         -0.078087  \n",
      "\n",
      "[5 rows x 37 columns]\n"
     ]
    }
   ],
   "source": [
    "print(X_train.head())"
   ]
  },
  {
   "cell_type": "code",
   "execution_count": 585,
   "metadata": {},
   "outputs": [
    {
     "name": "stdout",
     "output_type": "stream",
     "text": [
      "Null values in training data:\n",
      "Series([], dtype: int64)\n",
      "Null values in testing data:\n",
      "enginelocation     41\n",
      "fuelsystem_mfi     41\n",
      "fuelsystem_spfi    41\n",
      "dtype: int64\n"
     ]
    }
   ],
   "source": [
    "# Check for null values in the training data\n",
    "null_values_train = X_train.isnull().sum()\n",
    "print(\"Null values in training data:\")\n",
    "print(null_values_train[null_values_train > 0])\n",
    "\n",
    "# Check for null values in the testing data\n",
    "null_values_test = X_test.isnull().sum()\n",
    "print(\"Null values in testing data:\")\n",
    "print(null_values_test[null_values_test > 0])"
   ]
  },
  {
   "cell_type": "code",
   "execution_count": 586,
   "metadata": {},
   "outputs": [
    {
     "name": "stdout",
     "output_type": "stream",
     "text": [
      "     symboling  fueltype  aspiration  doornumber  wheelbase  carlength  \\\n",
      "15   -0.718806  0.350051    0.481312    0.915182   0.819313   1.316799   \n",
      "9    -0.718806  0.350051   -2.064985   -1.086016   0.155771   0.422070   \n",
      "100  -0.718806  0.350051    0.481312    0.915182  -0.176001   0.015375   \n",
      "132   1.703471  0.350051    0.481312   -1.086016   0.155771   1.072782   \n",
      "68   -1.526232 -2.839305   -2.064985    0.915182   1.980512   1.398137   \n",
      "\n",
      "     carheight  cylindernumber  boreratio    stroke  ...  enginetype_ohc  \\\n",
      "15    0.698630        1.649064    0.37154  0.352034  ...        0.584947   \n",
      "9    -0.499021        0.654775    0.37154  0.352034  ...        0.584947   \n",
      "100   0.299413       -0.339513    0.37154  0.352034  ...        0.584947   \n",
      "132   1.097847       -0.339513    0.37154  0.352034  ...        0.584947   \n",
      "68    1.896281        0.654775    0.37154  0.352034  ...        0.584947   \n",
      "\n",
      "     enginetype_ohcf  enginetype_ohcv  enginetype_rotor  fuelsystem_1bbl  \\\n",
      "15         -0.304572        -0.225764         -0.110772        -0.254046   \n",
      "9          -0.304572        -0.225764         -0.110772        -0.254046   \n",
      "100        -0.304572        -0.225764         -0.110772        -0.254046   \n",
      "132        -0.304572        -0.225764         -0.110772        -0.254046   \n",
      "68         -0.304572        -0.225764         -0.110772        -0.254046   \n",
      "\n",
      "     fuelsystem_2bbl  fuelsystem_4bbl  fuelsystem_idi  fuelsystem_mpfi  \\\n",
      "15         -0.708174        -0.110772       -0.350051         1.155279   \n",
      "9          -0.708174        -0.110772       -0.350051         1.155279   \n",
      "100         1.403472        -0.110772       -0.350051        -0.860314   \n",
      "132        -0.708174        -0.110772       -0.350051         1.155279   \n",
      "68         -0.708174        -0.110772        2.839305        -0.860314   \n",
      "\n",
      "     fuelsystem_spdi  \n",
      "15         -0.210509  \n",
      "9          -0.210509  \n",
      "100        -0.210509  \n",
      "132        -0.210509  \n",
      "68         -0.210509  \n",
      "\n",
      "[5 rows x 34 columns]\n",
      "     symboling  fueltype  aspiration  doornumber  wheelbase  carlength  \\\n",
      "180  -1.275056  0.223677    0.408959    0.750234   0.767122   0.888119   \n",
      "134   1.893265  0.223677    0.408959   -1.300406  -0.039340   0.803240   \n",
      "171   1.101185  0.223677    0.408959   -1.300406  -0.200632  -0.045545   \n",
      "198  -2.067136  0.223677   -2.385594    0.750234   0.767122   0.972997   \n",
      "63   -0.482976 -4.361696    0.408959    0.750234  -0.200632   0.039334   \n",
      "\n",
      "     carheight  cylindernumber  boreratio    stroke  ...  enginetype_ohc  \\\n",
      "180   0.298571        1.089290   0.277528  0.156174  ...       -1.300406   \n",
      "134   1.142807       -0.399406  -3.515355 -3.045388  ...        0.750234   \n",
      "171  -0.545664       -0.399406   0.277528  0.156174  ...        0.750234   \n",
      "198   1.142807       -0.399406   0.277528  0.156174  ...        0.750234   \n",
      "63    0.720689       -0.399406   0.277528  0.156174  ...        0.750234   \n",
      "\n",
      "     enginetype_ohcf  enginetype_ohcv  enginetype_rotor  fuelsystem_1bbl  \\\n",
      "180        -0.156174        -0.368105         -0.223677        -0.156174   \n",
      "134        -0.156174        -0.368105         -0.223677        -0.156174   \n",
      "171        -0.156174        -0.368105         -0.223677        -0.156174   \n",
      "198        -0.156174        -0.368105         -0.223677        -0.156174   \n",
      "63         -0.156174        -0.368105         -0.223677        -0.156174   \n",
      "\n",
      "     fuelsystem_2bbl  fuelsystem_4bbl  fuelsystem_idi  fuelsystem_mpfi  \\\n",
      "180          -0.5981        -0.156174       -0.223677         0.831298   \n",
      "134          -0.5981        -0.156174       -0.223677         0.831298   \n",
      "171          -0.5981        -0.156174       -0.223677         0.831298   \n",
      "198          -0.5981        -0.156174       -0.223677         0.831298   \n",
      "63           -0.5981        -0.156174        4.361696        -1.173598   \n",
      "\n",
      "     fuelsystem_spdi  \n",
      "180        -0.223677  \n",
      "134        -0.223677  \n",
      "171        -0.223677  \n",
      "198        -0.223677  \n",
      "63         -0.223677  \n",
      "\n",
      "[5 rows x 34 columns]\n"
     ]
    }
   ],
   "source": [
    "# Drop the specified columns from the training and testing sets\n",
    "X_train.drop(['enginelocation', 'fuelsystem_mfi', 'fuelsystem_spfi'], axis=1, inplace=True)\n",
    "X_test.drop(['enginelocation', 'fuelsystem_mfi', 'fuelsystem_spfi'], axis=1, inplace=True)\n",
    "\n",
    "# Display the first few rows of the transformed training and testing data\n",
    "print(X_train.head())\n",
    "print(X_test.head())"
   ]
  },
  {
   "cell_type": "code",
   "execution_count": 587,
   "metadata": {},
   "outputs": [
    {
     "data": {
      "image/png": "[encoded data removed]",
      "text/plain": [
       "<Figure size 1000x600 with 1 Axes>"
      ]
     },
     "metadata": {},
     "output_type": "display_data"
    }
   ],
   "source": [
    "class LinearRegression:\n",
    "    def __init__(self, learning_rate=0.01, n_iterations=1000):\n",
    "        self.learning_rate = learning_rate\n",
    "        self.n_iterations = n_iterations\n",
    "        self.weights = None\n",
    "        self.bias = None\n",
    "        self.cost_history = []\n",
    "\n",
    "    def fit(self, X, Y):\n",
    "        n_samples, n_features = X.shape\n",
    "        \n",
    "        # Initialize weights and bias\n",
    "        self.weights = np.zeros(n_features)\n",
    "        self.bias = 0\n",
    "        \n",
    "        # Gradient Descent\n",
    "        for i in range(self.n_iterations):\n",
    "            # Predicted values\n",
    "            Y_predicted = np.dot(X, self.weights) + self.bias\n",
    "            \n",
    "            # Compute gradients\n",
    "            dw = (1 / n_samples) * np.dot(X.T, (Y_predicted - Y))\n",
    "            db = (1 / n_samples) * np.sum(Y_predicted - Y)\n",
    "            \n",
    "            # Update weights and bias\n",
    "            self.weights -= self.learning_rate * dw\n",
    "            self.bias -= self.learning_rate * db\n",
    "            \n",
    "            # Compute cost and store it\n",
    "            cost = (1 / (2 * n_samples)) * np.sum((Y_predicted - Y) ** 2)\n",
    "            self.cost_history.append(cost)\n",
    "\n",
    "    def predict(self, X):\n",
    "        return np.dot(X, self.weights) + self.bias\n",
    "\n",
    "    def score(self, X, Y):\n",
    "        Y_pred = self.predict(X)\n",
    "        mse = np.mean((Y - Y_pred) ** 2)\n",
    "        return mse\n",
    "\n",
    "# Create an instance of the model with adjusted learning rate and iterations\n",
    "model = LinearRegression(learning_rate=0.01, n_iterations=1000)\n",
    "\n",
    "# Fit the model on the training data\n",
    "model.fit(X_train, Y_train)\n",
    "\n",
    "# Plot the cost vs iteration graph\n",
    "plt.figure(figsize=(10, 6))\n",
    "plt.plot(range(model.n_iterations), model.cost_history, color='blue')\n",
    "plt.xlabel('Iterations')\n",
    "plt.ylabel('Cost')\n",
    "plt.title('Cost vs Iterations')\n",
    "plt.show()"
   ]
  },
  {
   "cell_type": "code",
   "execution_count": 588,
   "metadata": {},
   "outputs": [
    {
     "name": "stdout",
     "output_type": "stream",
     "text": [
      "[19888.71743187 13487.76804862 12917.59330698 18669.85666347\n",
      "  9268.21981987  6033.12891485 14730.21106995  5346.44283047\n",
      " 19708.22078711 12917.59330698  9644.16639718 24884.68052751\n",
      "  7458.54016811  5477.78364479 10683.4541833   3713.78965997\n",
      " 14451.80016055 27344.10350911  7942.5967238   5367.03523273\n",
      "  9465.51178434 12528.00734512  4986.63403831 12836.94511117\n",
      "  8085.6166795   4741.84356077 14827.84515822  8603.65722465\n",
      " 15860.39317175 10615.77902491 29675.2514798   7951.58280994\n",
      " 19866.8498915   3725.77689862 10521.52229059 29062.4828397\n",
      " 16371.66800755 21778.2961167   6536.64367186 20682.21132464\n",
      " 13316.8538277 ]\n"
     ]
    }
   ],
   "source": [
    "# Making predictions on the test data\n",
    "predictions = model.predict(X_test)\n",
    "\n",
    "print(predictions)\n",
    "\n"
   ]
  },
  {
   "cell_type": "code",
   "execution_count": 589,
   "metadata": {},
   "outputs": [
    {
     "name": "stdout",
     "output_type": "stream",
     "text": [
      "Mean Squared Error: 14923786.28326454\n"
     ]
    }
   ],
   "source": [
    "#error function\n",
    "def mean_squared_error(Y_true, Y_pred):\n",
    "    return np.mean((Y_true - Y_pred) ** 2)\n",
    "\n",
    "# Convert testing DataFrame to NumPy arrays\n",
    "Y_test_np = Y_test.values\n",
    "\n",
    "# Making predictions on the testing dataset\n",
    "test_predictions = model.predict(X_test.values)\n",
    "\n",
    "# Calculate MSE using testing data\n",
    "mse = mean_squared_error(Y_test_np, test_predictions)\n",
    "print(f'Mean Squared Error: {mse}')\n"
   ]
  },
  {
   "cell_type": "code",
   "execution_count": 590,
   "metadata": {},
   "outputs": [
    {
     "data": {
      "image/png": "[encoded data removed]",
      "text/plain": [
       "<Figure size 1000x600 with 1 Axes>"
      ]
     },
     "metadata": {},
     "output_type": "display_data"
    }
   ],
   "source": [
    "# Plot the regression plot\n",
    "# Create DataFrames for plotting\n",
    "train_plot_df = pd.DataFrame({'Actual': Y_train, 'Predicted': model.predict(X_train)})\n",
    "test_plot_df = pd.DataFrame({'Actual': Y_test, 'Predicted': model.predict(X_test)})\n",
    "\n",
    "# Plot the regression plot\n",
    "plt.figure(figsize=(10, 6))\n",
    "plt.scatter(train_plot_df['Actual'], train_plot_df['Predicted'], color='blue', label='Training Set')\n",
    "plt.scatter(test_plot_df['Actual'], test_plot_df['Predicted'], color='green', label='Testing Set')\n",
    "plt.plot([min(Y_train.min(), Y_test.min()), max(Y_train.max(), Y_test.max())], \n",
    "         [min(Y_train.min(), Y_test.min()), max(Y_train.max(), Y_test.max())], \n",
    "         color='red', label='Ideal Fit')\n",
    "plt.xlabel('Actual Prices')\n",
    "plt.ylabel('Predicted Prices')\n",
    "plt.title('Linear Regression Plot')\n",
    "plt.legend()\n",
    "plt.show()"
   ]
  },
  {
   "cell_type": "code",
   "execution_count": 591,
   "metadata": {},
   "outputs": [
    {
     "name": "stdout",
     "output_type": "stream",
     "text": [
      "Mean Squared Error (MSE): 14923786.28326454\n",
      "Mean Absolute Error (MAE): 2614.2112447717363\n",
      "R-squared (R²) Score: 0.8075413791305334\n"
     ]
    }
   ],
   "source": [
    "# Mean Squared Error\n",
    "def mean_squared_error(y_true, y_pred):\n",
    "    return np.mean((y_true - y_pred) ** 2)\n",
    "\n",
    "# Mean Absolute Error\n",
    "def mean_absolute_error(y_true, y_pred):\n",
    "    return np.mean(np.abs(y_true - y_pred))\n",
    "\n",
    "# R-squared Score\n",
    "def r2_score(y_true, y_pred):\n",
    "    ss_res = np.sum((y_true - y_pred) ** 2)\n",
    "    ss_tot = np.sum((y_true - np.mean(y_true)) ** 2)\n",
    "    return 1 - (ss_res / ss_tot)\n",
    "\n",
    "# Convert testing DataFrame to NumPy arrays\n",
    "Y_test_np = Y_test.values\n",
    "\n",
    "# Making predictions on the testing dataset\n",
    "test_predictions = model.predict(X_test.values)\n",
    "\n",
    "# Calculate evaluation metrics\n",
    "mse = mean_squared_error(Y_test_np, test_predictions)\n",
    "mae = mean_absolute_error(Y_test_np, test_predictions)\n",
    "r2 = r2_score(Y_test_np, test_predictions)\n",
    "\n",
    "print(f'Mean Squared Error (MSE): {mse}')\n",
    "print(f'Mean Absolute Error (MAE): {mae}')\n",
    "print(f'R-squared (R²) Score: {r2}')"
   ]
  },
  {
   "cell_type": "code",
   "execution_count": null,
   "metadata": {},
   "outputs": [],
   "source": []
  }
 ],
 "metadata": {
  "kernelspec": {
   "display_name": "Python 3",
   "language": "python",
   "name": "python3"
  },
  "language_info": {
   "codemirror_mode": {
    "name": "ipython",
    "version": 3
   },
   "file_extension": ".py",
   "mimetype": "text/x-python",
   "name": "python",
   "nbconvert_exporter": "python",
   "pygments_lexer": "ipython3",
   "version": "3.12.7"
  }
 },
 "nbformat": 4,
 "nbformat_minor": 2
}
